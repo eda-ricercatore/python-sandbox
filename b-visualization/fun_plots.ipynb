{
  "nbformat": 4,
  "nbformat_minor": 0,
  "metadata": {
    "colab": {
      "provenance": [],
      "include_colab_link": true
    },
    "kernelspec": {
      "name": "python3",
      "display_name": "Python 3"
    },
    "language_info": {
      "name": "python"
    }
  },
  "cells": [
    {
      "cell_type": "markdown",
      "metadata": {
        "id": "view-in-github",
        "colab_type": "text"
      },
      "source": [
        "<a href=\"https://colab.research.google.com/github/eda-ricercatore/python-sandbox/blob/main/b-visualization/fun_plots.ipynb\" target=\"_parent\"><img src=\"https://colab.research.google.com/assets/colab-badge.svg\" alt=\"Open In Colab\"/></a>"
      ]
    },
    {
      "cell_type": "markdown",
      "source": [
        "# Plotting Mathematical Functions\n",
        "\n",
        "Given function is: (𝑥2+𝑦2−1)3−𝑥2𝑦3=0 \n",
        "\n",
        "This mathematical expression is not well-formed such that it can be parsed by a Python, MATLAB, or R interpreter, or a C++, Java, or FORTRAN compiler.\n",
        "\n",
        "The aforementioned function is re-expressed as: (𝑥2+𝑦2−1)^3−𝑥2*𝑦3=0.\n",
        "\n",
        "Yikes, this is a 4-D plot for dimensions x2, y2, and y3, in the fourth dimension of *f*.\n",
        "\n",
        "Re-express the function as: (𝑥^2+𝑦^2−1)^3−𝑥^2*𝑦^3=0.\n",
        "\n",
        "This can be rearranged as: y = 0.5*x^(2/3) + sqrt(0.25*x^(4/3) - x^2 + 1)\n",
        "\n",
        "\n",
        "References:\n",
        "https://www.quora.com/Can-you-draw-x-2-y-2-1-3-x-2y-3/answer/Robert-Paxson\n",
        "\n",
        "\n",
        "Robert Paxson, , December 12, 2021. "
      ],
      "metadata": {
        "id": "k_07L6jHSTF1"
      }
    },
    {
      "cell_type": "code",
      "execution_count": null,
      "metadata": {
        "colab": {
          "base_uri": "https://localhost:8080/",
          "height": 373
        },
        "id": "6kUHJ9yASISI",
        "outputId": "1676e105-bfed-406c-f756-5d472a2be572"
      },
      "outputs": [
        {
          "output_type": "stream",
          "name": "stdout",
          "text": [
            "x2 is: [-1.5, -1.49, -1.48, -1.47, -1.46, -1.45, -1.44, -1.43, -1.42, -1.41, -1.4, -1.39, -1.38, -1.37, -1.36, -1.35, -1.34, -1.33, -1.32, -1.31, -1.3, -1.29, -1.28, -1.27, -1.26, -1.25, -1.24, -1.23, -1.22, -1.21, -1.2, -1.19, -1.18, -1.17, -1.16, -1.15, -1.14, -1.13, -1.12, -1.11, -1.1, -1.09, -1.08, -1.07, -1.06, -1.05, -1.04, -1.03, -1.02, -1.01, -1.0, -0.99, -0.98, -0.97, -0.96, -0.95, -0.94, -0.93, -0.92, -0.91, -0.9, -0.89, -0.88, -0.87, -0.86, -0.85, -0.84, -0.83, -0.82, -0.81, -0.8, -0.79, -0.78, -0.77, -0.76, -0.75, -0.74, -0.73, -0.72, -0.71, -0.7, -0.69, -0.68, -0.67, -0.66, -0.65, -0.64, -0.63, -0.62, -0.61, -0.6, -0.59, -0.58, -0.57, -0.56, -0.55, -0.54, -0.53, -0.52, -0.51, -0.5, -0.49, -0.48, -0.47, -0.46, -0.45, -0.44, -0.43, -0.42, -0.41, -0.4, -0.39, -0.38, -0.37, -0.36, -0.35, -0.34, -0.33, -0.32, -0.31, -0.3, -0.29, -0.28, -0.27, -0.26, -0.25, -0.24, -0.23, -0.22, -0.21, -0.2, -0.19, -0.18, -0.17, -0.16, -0.15, -0.14, -0.13, -0.12, -0.11, -0.1, -0.09, -0.08, -0.07, -0.06, -0.05, -0.04, -0.03, -0.02, -0.01, 0.0, 0.01, 0.02, 0.03, 0.04, 0.05, 0.06, 0.07, 0.08, 0.09, 0.1, 0.11, 0.12, 0.13, 0.14, 0.15, 0.16, 0.17, 0.18, 0.19, 0.2, 0.21, 0.22, 0.23, 0.24, 0.25, 0.26, 0.27, 0.28, 0.29, 0.3, 0.31, 0.32, 0.33, 0.34, 0.35, 0.36, 0.37, 0.38, 0.39, 0.4, 0.41, 0.42, 0.43, 0.44, 0.45, 0.46, 0.47, 0.48, 0.49, 0.5, 0.51, 0.52, 0.53, 0.54, 0.55, 0.56, 0.57, 0.58, 0.59, 0.6, 0.61, 0.62, 0.63, 0.64, 0.65, 0.66, 0.67, 0.68, 0.69, 0.7, 0.71, 0.72, 0.73, 0.74, 0.75, 0.76, 0.77, 0.78, 0.79, 0.8, 0.81, 0.82, 0.83, 0.84, 0.85, 0.86, 0.87, 0.88, 0.89, 0.9, 0.91, 0.92, 0.93, 0.94, 0.95, 0.96, 0.97, 0.98, 0.99, 1.0, 1.01, 1.02, 1.03, 1.04, 1.05, 1.06, 1.07, 1.08, 1.09, 1.1, 1.11, 1.12, 1.13, 1.14, 1.15, 1.16, 1.17, 1.18, 1.19, 1.2, 1.21, 1.22, 1.23, 1.24, 1.25, 1.26, 1.27, 1.28, 1.29, 1.3, 1.31, 1.32, 1.33, 1.34, 1.35, 1.36, 1.37, 1.38, 1.39, 1.4, 1.41, 1.42, 1.43, 1.44, 1.45, 1.46, 1.47, 1.48, 1.49, 1.5] =\n"
          ]
        },
        {
          "output_type": "stream",
          "name": "stderr",
          "text": [
            "/usr/local/lib/python3.7/dist-packages/matplotlib/cbook/__init__.py:1317: ComplexWarning: Casting complex values to real discards the imaginary part\n",
            "  return np.asarray(x, float)\n"
          ]
        },
        {
          "output_type": "display_data",
          "data": {
            "text/plain": [
              "<Figure size 432x288 with 1 Axes>"
            ],
            "image/png": "[encoded data removed]"
          },
          "metadata": {
            "needs_background": "light"
          }
        },
        {
          "output_type": "execute_result",
          "data": {
            "text/plain": [
              "'\\nplt.plot(x2, y2, y3, f, label=\"given function\")\\nplt.plot()\\n\\nplt.xlabel(\"Values of x2, y2, and y3.\")\\nplt.ylabel(\"Values of function $f$.\")\\nplt.title(\"Plot of f = (x2 + y2 - 1)^3 - x2*y3.\")\\nplt.legend()\\nplt.show()\\n'"
            ],
            "application/vnd.google.colaboratory.intrinsic+json": {
              "type": "string"
            }
          },
          "metadata": {},
          "execution_count": 27
        }
      ],
      "source": [
        "# Import Python libraries.\n",
        "# Import Matplotlib.\n",
        "import matplotlib.pyplot as plt\n",
        "# Import NumPy.\n",
        "import numpy as np\n",
        "\n",
        "\n",
        "absolute_max_value = 150\n",
        "#x2 = list(range(-absolute_max_value,absolute_max_value+1))\n",
        "x2 = [x/100 for x in range(-absolute_max_value,absolute_max_value+1)]\n",
        "print(\"x2 is:\",x2,\"=\")\n",
        "#y = 0.5*x**(2/3) + sqrt(0.25*x**(4/3) - x**2 + 1)\n",
        "# Updated values of x2, y2, and y3 for plotting function f.\n",
        "x2_new = []\n",
        "f = []\n",
        "for x2_i in x2:\n",
        "  \"\"\"\n",
        "  x2_new = x2_new.append(x2_i)\n",
        "  y2_new = y2_new.append(y2_i)\n",
        "  \"\"\"\n",
        "  x2_new.append(x2_i)\n",
        "  f_i = 0.5*x2_i**(2/3) + (0.25*x2_i**(4/3) - x2_i**2 + 1)**0.5\n",
        "  f.append(f_i)\n",
        "f_inv = [-1*f_j for f_j in f]\n",
        "\"\"\"\n",
        "fig = plt.figure()\n",
        "ax = fig.add_subplot(projection='3d')\n",
        "ax.scatter(x2_new, y2_new, f)\n",
        "ax.set_xlabel('X Label')\n",
        "ax.set_ylabel('Y Label')\n",
        "ax.set_zlabel('Z Label')\n",
        "plt.show()\n",
        "\"\"\"\n",
        "#plt.plot(x2_new, y2_new, f, 'ro')\n",
        "plt.plot(x2_new, f, x2_new, f_inv, 'ro')\n",
        "x_bounds = 1.4\n",
        "y_bounds = 1.35\n",
        "plt.axis([-x_bounds, x_bounds, -y_bounds, y_bounds])\n",
        "plt.show()\n",
        "\n",
        "\n",
        "\"\"\"\n",
        "plt.plot(x2, y2, y3, f, label=\"given function\")\n",
        "plt.plot()\n",
        "\n",
        "plt.xlabel(\"Values of x2, y2, and y3.\")\n",
        "plt.ylabel(\"Values of function $f$.\")\n",
        "plt.title(\"Plot of f = (x2 + y2 - 1)^3 - x2*y3.\")\n",
        "plt.legend()\n",
        "plt.show()\n",
        "\"\"\""
      ]
    },
    {
      "cell_type": "code",
      "source": [
        "b = [23, 34, 45, 56, 67, 78, 89]\n",
        "c = [2.3, 3.4, 4.5, 5.6, 6.7, 7.8, 8.9]\n",
        "d = [1.3, 2.4, 3.5, 4.6, 5.7, 6.8, 7.9]\n",
        "for i, (bi,ci,di) in enumerate(zip(b,c,d)):\n",
        "\tprint(\"index\", i, \"elem 1:\",bi, \"elem 2:\",ci, \"elem 3:\", di)"
      ],
      "metadata": {
        "colab": {
          "base_uri": "https://localhost:8080/"
        },
        "id": "CR_Sr54onPsk",
        "outputId": "fd6f1699-469e-4783-b9c8-7c88eadcd0a4"
      },
      "execution_count": null,
      "outputs": [
        {
          "output_type": "stream",
          "name": "stdout",
          "text": [
            "index 0 elem 1: 23 elem 2: 2.3 elem 3: 1.3\n",
            "index 1 elem 1: 34 elem 2: 3.4 elem 3: 2.4\n",
            "index 2 elem 1: 45 elem 2: 4.5 elem 3: 3.5\n",
            "index 3 elem 1: 56 elem 2: 5.6 elem 3: 4.6\n",
            "index 4 elem 1: 67 elem 2: 6.7 elem 3: 5.7\n",
            "index 5 elem 1: 78 elem 2: 7.8 elem 3: 6.8\n",
            "index 6 elem 1: 89 elem 2: 8.9 elem 3: 7.9\n"
          ]
        }
      ]
    },
    {
      "cell_type": "code",
      "source": [
        "# Import Python libraries.\n",
        "# Import Matplotlib.\n",
        "import matplotlib.pyplot as plt\n",
        "# Import SciPy.\n",
        "import scipy\n",
        "# Import NumPy.\n",
        "import numpy\n",
        "\"\"\"\n",
        "# Comment these statements out since a DeprecationWarning has been raised while running this code block.\n",
        "x = scipy.linspace(-2,2,1500) \n",
        "y1 = scipy.sqrt(1-(abs(x)-1)**2) \n",
        "y2 = -3*scipy.sqrt(1-(abs(x)/2)**0.5)\n",
        "\"\"\"\n",
        "x = numpy.linspace(-2,2,1500) \n",
        "y1 = numpy.lib.scimath.sqrt(1-(abs(x)-1)**2) \n",
        "y2 = -3*numpy.lib.scimath.sqrt(1-(abs(x)/2)**0.5)\n",
        "#plt.plot(x, y1, x, y2, 'ro')\n",
        "plt.plot(x, y1, x, y2)\n",
        "x_bounds = 2.5\n",
        "y_bounds = 1.35\n",
        "plt.axis([-x_bounds, x_bounds, -3.2, 1.2])\n",
        "plt.show()"
      ],
      "metadata": {
        "colab": {
          "base_uri": "https://localhost:8080/",
          "height": 265
        },
        "id": "ksFLIOTKUxE6",
        "outputId": "7cb641eb-548d-48f1-a347-e09f04d726df"
      },
      "execution_count": null,
      "outputs": [
        {
          "output_type": "display_data",
          "data": {
            "text/plain": [
              "<Figure size 432x288 with 1 Axes>"
            ],
            "image/png": "[encoded data removed]"
          },
          "metadata": {
            "needs_background": "light"
          }
        }
      ]
    },
    {
      "cell_type": "code",
      "source": [
        "import matplotlib.pyplot as plt\n",
        "#import scipy\n",
        "import numpy\n",
        "\"\"\"\n",
        "# Avoid using deprecated methods from SciPy. Use NumPy instead.\n",
        "x = scipy.linspace(-2,2,1500) \n",
        "y1 = scipy.sqrt(1-(abs(x)-1)**2) \n",
        "y2 = -3*scipy.sqrt(1-(abs(x)/2)**0.5)\n",
        "\"\"\"\n",
        "x = numpy.linspace(-2,2,1500) \n",
        "y1 = numpy.lib.scimath.sqrt(1-(abs(x)-1)**2) \n",
        "y2 = -3*numpy.lib.scimath.sqrt(1-(abs(x)/2)**0.5)\n",
        "plt.plot(x, y1, x, y2)\n",
        "x_bounds = 2.5\n",
        "y_bounds = 1.35\n",
        "plt.axis([-x_bounds, x_bounds, -3.2, 1.2])\n",
        "plt.show()"
      ],
      "metadata": {
        "id": "JPmANPl0Vkfo",
        "outputId": "70e2b5f8-1b3a-45cb-f122-bb45418fa579",
        "colab": {
          "base_uri": "https://localhost:8080/",
          "height": 265
        }
      },
      "execution_count": null,
      "outputs": [
        {
          "output_type": "display_data",
          "data": {
            "text/plain": [
              "<Figure size 432x288 with 1 Axes>"
            ],
            "image/png": "[encoded data removed]"
          },
          "metadata": {
            "needs_background": "light"
          }
        }
      ]
    },
    {
      "cell_type": "markdown",
      "source": [
        "# GitHub Storage Location\n",
        "\n",
        "The URL for the GitHub repository to store this *Jupyter Notebook* is: https://github.com/eda-ricercatore/python-sandbox\n",
        "\n",
        "\n",
        "The specific path from the location of the repository to the subdirectory/folder for the *Jupyter Notebook* is: python-sandbox/b-visualization/fun_plots.ipynb"
      ],
      "metadata": {
        "id": "KBYk3QoUvh-S"
      }
    }
  ]
}