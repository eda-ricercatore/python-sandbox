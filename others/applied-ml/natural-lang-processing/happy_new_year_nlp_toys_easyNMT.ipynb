{
  "cells": [
    {
      "cell_type": "markdown",
      "metadata": {
        "id": "view-in-github",
        "colab_type": "text"
      },
      "source": [
        "<a href=\"https://colab.research.google.com/github/eda-ricercatore/python-sandbox/blob/main/others/applied-ml/natural-lang-processing/happy_new_year_nlp_toys_easyNMT.ipynb\" target=\"_parent\"><img src=\"https://colab.research.google.com/assets/colab-badge.svg\" alt=\"Open In Colab\"/></a>"
      ]
    },
    {
      "cell_type": "markdown",
      "metadata": {
        "id": "LIEvze-MmHFx"
      },
      "source": [
        "# Python Program to Wish People, \"Happy New Year\"\n",
        "\n",
        "It contains *Python* code to wish people, \"Happy New Year,\" using machine translation from English to other languages.\n",
        "\n",
        "It needs only 3 lines of code, but written for 4 lines to make it more readable and modifiable."
      ]
    },
    {
      "cell_type": "markdown",
      "metadata": {
        "id": "DR7ZCjuPlKL3"
      },
      "source": [
        "#   Precondition: Set Up Environment to Import *PyPI* Library\n",
        "\n",
        "Use the command line in *Google Colab* to set up the *PyPI* library for deep learning -based machine translation, so that it can be imported subsequently.\n",
        "\n",
        "The *sacremoses* package from *PyPI* helps to display languages from different parts of the world."
      ]
    },
    {
      "cell_type": "code",
      "execution_count": null,
      "metadata": {
        "colab": {
          "base_uri": "https://localhost:8080/"
        },
        "id": "PFzXlwO1h3Vy",
        "outputId": "6bfd1e0a-8b5f-4b5a-ee79-64313691bb11"
      },
      "outputs": [
        {
          "output_type": "stream",
          "name": "stdout",
          "text": [
            "Looking in indexes: https://pypi.org/simple, https://us-python.pkg.dev/colab-wheels/public/simple/\n",
            "Collecting easynmt\n",
            "  Downloading EasyNMT-2.0.2.tar.gz (23 kB)\n",
            "Requirement already satisfied: tqdm in /usr/local/lib/python3.8/dist-packages (from easynmt) (4.64.1)\n",
            "Collecting transformers<5,>=4.4\n",
            "  Downloading transformers-4.25.1-py3-none-any.whl (5.8 MB)\n",
            "\u001b[K     |████████████████████████████████| 5.8 MB 7.7 MB/s \n",
            "\u001b[?25hRequirement already satisfied: torch>=1.6.0 in /usr/local/lib/python3.8/dist-packages (from easynmt) (1.13.0+cu116)\n",
            "Requirement already satisfied: numpy in /usr/local/lib/python3.8/dist-packages (from easynmt) (1.21.6)\n",
            "Requirement already satisfied: nltk in /usr/local/lib/python3.8/dist-packages (from easynmt) (3.7)\n",
            "Collecting sentencepiece\n",
            "  Downloading sentencepiece-0.1.97-cp38-cp38-manylinux_2_17_x86_64.manylinux2014_x86_64.whl (1.3 MB)\n",
            "\u001b[K     |████████████████████████████████| 1.3 MB 40.2 MB/s \n",
            "\u001b[?25hCollecting fasttext\n",
            "  Downloading fasttext-0.9.2.tar.gz (68 kB)\n",
            "\u001b[K     |████████████████████████████████| 68 kB 7.4 MB/s \n",
            "\u001b[?25hRequirement already satisfied: protobuf in /usr/local/lib/python3.8/dist-packages (from easynmt) (3.19.6)\n",
            "Requirement already satisfied: typing-extensions in /usr/local/lib/python3.8/dist-packages (from torch>=1.6.0->easynmt) (4.4.0)\n",
            "Requirement already satisfied: packaging>=20.0 in /usr/local/lib/python3.8/dist-packages (from transformers<5,>=4.4->easynmt) (21.3)\n",
            "Requirement already satisfied: pyyaml>=5.1 in /usr/local/lib/python3.8/dist-packages (from transformers<5,>=4.4->easynmt) (6.0)\n",
            "Requirement already satisfied: requests in /usr/local/lib/python3.8/dist-packages (from transformers<5,>=4.4->easynmt) (2.23.0)\n",
            "Collecting tokenizers!=0.11.3,<0.14,>=0.11.1\n",
            "  Downloading tokenizers-0.13.2-cp38-cp38-manylinux_2_17_x86_64.manylinux2014_x86_64.whl (7.6 MB)\n",
            "\u001b[K     |████████████████████████████████| 7.6 MB 54.8 MB/s \n",
            "\u001b[?25hRequirement already satisfied: regex!=2019.12.17 in /usr/local/lib/python3.8/dist-packages (from transformers<5,>=4.4->easynmt) (2022.6.2)\n",
            "Collecting huggingface-hub<1.0,>=0.10.0\n",
            "  Downloading huggingface_hub-0.11.1-py3-none-any.whl (182 kB)\n",
            "\u001b[K     |████████████████████████████████| 182 kB 70.8 MB/s \n",
            "\u001b[?25hRequirement already satisfied: filelock in /usr/local/lib/python3.8/dist-packages (from transformers<5,>=4.4->easynmt) (3.8.2)\n",
            "Requirement already satisfied: pyparsing!=3.0.5,>=2.0.2 in /usr/local/lib/python3.8/dist-packages (from packaging>=20.0->transformers<5,>=4.4->easynmt) (3.0.9)\n",
            "Collecting pybind11>=2.2\n",
            "  Using cached pybind11-2.10.2-py3-none-any.whl (222 kB)\n",
            "Requirement already satisfied: setuptools>=0.7.0 in /usr/local/lib/python3.8/dist-packages (from fasttext->easynmt) (57.4.0)\n",
            "Requirement already satisfied: click in /usr/local/lib/python3.8/dist-packages (from nltk->easynmt) (7.1.2)\n",
            "Requirement already satisfied: joblib in /usr/local/lib/python3.8/dist-packages (from nltk->easynmt) (1.2.0)\n",
            "Requirement already satisfied: idna<3,>=2.5 in /usr/local/lib/python3.8/dist-packages (from requests->transformers<5,>=4.4->easynmt) (2.10)\n",
            "Requirement already satisfied: certifi>=2017.4.17 in /usr/local/lib/python3.8/dist-packages (from requests->transformers<5,>=4.4->easynmt) (2022.12.7)\n",
            "Requirement already satisfied: chardet<4,>=3.0.2 in /usr/local/lib/python3.8/dist-packages (from requests->transformers<5,>=4.4->easynmt) (3.0.4)\n",
            "Requirement already satisfied: urllib3!=1.25.0,!=1.25.1,<1.26,>=1.21.1 in /usr/local/lib/python3.8/dist-packages (from requests->transformers<5,>=4.4->easynmt) (1.24.3)\n",
            "Building wheels for collected packages: easynmt, fasttext\n",
            "  Building wheel for easynmt (setup.py) ... \u001b[?25l\u001b[?25hdone\n",
            "  Created wheel for easynmt: filename=EasyNMT-2.0.2-py3-none-any.whl size=19917 sha256=834a45953283754a598510f0b5f24fde6f971674eb54f3edea0194555e83a993\n",
            "  Stored in directory: /root/.cache/pip/wheels/4d/9b/b5/44756a28f050e4e7835b959e90998b42985db542f3153cce26\n",
            "  Building wheel for fasttext (setup.py) ... \u001b[?25l\u001b[?25hdone\n",
            "  Created wheel for fasttext: filename=fasttext-0.9.2-cp38-cp38-linux_x86_64.whl size=3133662 sha256=2e5cca179058ab1606113c7dd70442f6bc2807d43a50d8d3220a4a2c0140cedf\n",
            "  Stored in directory: /root/.cache/pip/wheels/93/61/2a/c54711a91c418ba06ba195b1d78ff24fcaad8592f2a694ac94\n",
            "Successfully built easynmt fasttext\n",
            "Installing collected packages: tokenizers, pybind11, huggingface-hub, transformers, sentencepiece, fasttext, easynmt\n",
            "Successfully installed easynmt-2.0.2 fasttext-0.9.2 huggingface-hub-0.11.1 pybind11-2.10.2 sentencepiece-0.1.97 tokenizers-0.13.2 transformers-4.25.1\n",
            "Looking in indexes: https://pypi.org/simple, https://us-python.pkg.dev/colab-wheels/public/simple/\n",
            "Collecting sacremoses\n",
            "  Downloading sacremoses-0.0.53.tar.gz (880 kB)\n",
            "\u001b[K     |████████████████████████████████| 880 kB 4.9 MB/s \n",
            "\u001b[?25hRequirement already satisfied: regex in /usr/local/lib/python3.8/dist-packages (from sacremoses) (2022.6.2)\n",
            "Requirement already satisfied: six in /usr/local/lib/python3.8/dist-packages (from sacremoses) (1.15.0)\n",
            "Requirement already satisfied: click in /usr/local/lib/python3.8/dist-packages (from sacremoses) (7.1.2)\n",
            "Requirement already satisfied: joblib in /usr/local/lib/python3.8/dist-packages (from sacremoses) (1.2.0)\n",
            "Requirement already satisfied: tqdm in /usr/local/lib/python3.8/dist-packages (from sacremoses) (4.64.1)\n",
            "Building wheels for collected packages: sacremoses\n",
            "  Building wheel for sacremoses (setup.py) ... \u001b[?25l\u001b[?25hdone\n",
            "  Created wheel for sacremoses: filename=sacremoses-0.0.53-py3-none-any.whl size=895260 sha256=74904f3f4ca2e46b90198be5a1f5dc8e7f993f0603274740864918e41c0aad93\n",
            "  Stored in directory: /root/.cache/pip/wheels/82/ab/9b/c15899bf659ba74f623ac776e861cf2eb8608c1825ddec66a4\n",
            "Successfully built sacremoses\n",
            "Installing collected packages: sacremoses\n",
            "Successfully installed sacremoses-0.0.53\n"
          ]
        }
      ],
      "source": [
        "!pip install -U easynmt\n",
        "!pip install sacremoses"
      ]
    },
    {
      "cell_type": "markdown",
      "metadata": {
        "id": "zfZtQOlvltM0"
      },
      "source": [
        "#   Import *PyPI* Library for Machine Translation, and Perform Machine Translation.\n",
        "\n",
        "Import the *PyPI* Library for deep learning -based machine translation, and perform machine translation.\n",
        "\n",
        "This is the sample code to translate from English to German, from the *PyPI* Web page for *EasyNMT*.\n",
        "\n",
        "```\n",
        "# This is formatted as code\n",
        "```\n",
        "\n",
        "End of sample code."
      ]
    },
    {
      "cell_type": "code",
      "execution_count": null,
      "metadata": {
        "colab": {
          "base_uri": "https://localhost:8080/"
        },
        "id": "FSZXmto4lrwb",
        "outputId": "2266ddfc-18ab-4835-cd5b-91bd22504ac1"
      },
      "outputs": [
        {
          "output_type": "stream",
          "name": "stdout",
          "text": [
            "Dies ist ein Satz, den wir ins Deutsche übersetzen wollen\n",
            "['Sie können eine Liste mit Sätzen definieren.', 'Alle Sätze werden in Ihre Zielsprache übersetzt.', 'Beachten Sie, Sie können auch die Sprachen der Sätze mischen.']\n"
          ]
        }
      ],
      "source": [
        "from easynmt import EasyNMT\n",
        "model = EasyNMT('opus-mt')\n",
        "\n",
        "#Translate a single sentence to German\n",
        "print(model.translate('This is a sentence we want to translate to German', target_lang='de'))\n",
        "\n",
        "#Translate several sentences to German\n",
        "sentences = ['You can define a list with sentences.',\n",
        "             'All sentences are translated to your target language.',\n",
        "             'Note, you could also mix the languages of the sentences.']\n",
        "print(model.translate(sentences, target_lang='de'))"
      ]
    },
    {
      "cell_type": "markdown",
      "metadata": {
        "id": "7tbTX1CGnMx7"
      },
      "source": [
        "#   Translate Birthday Wishes from English to Different Languages\n",
        "\n",
        "Translate from English to the following languages:\n",
        "+ Italian\n",
        "+ Spanish\n",
        "+ French\n",
        "+ Romanian\n",
        "+ Mandarin/Chinese\n",
        "+ Hungarian\n",
        "+ Malayalam\n",
        "+ Hindi\n",
        "+ Indonesian Malay\n",
        "+ Vietnamese\n",
        "+ Tagalog\n",
        "+ Dutch\n",
        "+ German\n",
        "+ Swedish\n",
        "+ Hebrew\n",
        "+ Arabic\n",
        "+ Kiswahili/Swahili"
      ]
    },
    {
      "cell_type": "code",
      "execution_count": null,
      "metadata": {
        "colab": {
          "base_uri": "https://localhost:8080/"
        },
        "id": "mBWFMnsYnJo4",
        "outputId": "b0c14bdc-e5cb-412f-9ffb-21fb67f18da1"
      },
      "outputs": [
        {
          "output_type": "stream",
          "name": "stdout",
          "text": [
            "['Buon anno!', 'Che la tua vita sia piena di gioia!']\n",
            "['¡Feliz Año Nuevo!', '¡Que tu vida esté llena de alegría!']\n",
            "['Bonne année!', 'Que ta vie soit remplie de joie!']\n",
            "['La mulţi ani!', 'Fie ca viaţa ta să fie plină de bucurie!']\n",
            "['新年快乐!', '愿你的生命充满喜悦!']\n",
            "['Boldog új évet!', 'Az életed legyen tele örömmel!']\n",
            "['ഹാപ്പി ന്യൂ ഇയർ!', 'നിങ്ങളുടെ ജീവിതം സന്തോഷത്താൽ നിറയട്ടെ!']\n",
            "['नया साल मुबारक हो!', 'ऐसा हो कि आपका जीवन आनन्द से भर जाए!']\n",
            "['Selamat Tahun Baru!', 'Semoga hidupmu penuh dengan sukacita!']\n",
            "['Chúc mừng năm mới!', 'Mong sao đời sống bạn tràn đầy vui mừng!']\n",
            "['Maligayang Bagong Taon!', 'Mapuspos nawa ng kagalakan ang iyong buhay!']\n",
            "['Gelukkig Nieuwjaar!', 'Moge je leven vervuld zijn van vreugde!']\n",
            "['Frohes neues Jahr!', 'Möge dein Leben mit Freude erfüllt sein!']\n",
            "['Gott nytt år!', 'Må ditt liv bli fyllt av glädje!']\n",
            "['שנה טובה!', 'מי ייתן וחייך יהיו מלאי שמחה!']\n",
            "['السنة الجديدة السعيدة!', 'لِتَمْلَأُ حَيَاتُكَ مِنْ ٱلْمَزْمُورِ!']\n",
            "['Heri ya Mwaka Mpya!', 'Maisha yako na yajawe na shangwe!']\n"
          ]
        }
      ],
      "source": [
        "# Translate birthday wishes as several sentences into different languages.\n",
        "sentences = ['Happy New Year!',\n",
        "             'May your life be filled with joy!']\n",
        "# Translate birthday wishes into Italian.\n",
        "print(model.translate(sentences, target_lang='it'))\n",
        "# Translate birthday wishes into Spanish.\n",
        "print(model.translate(sentences, target_lang='es'))\n",
        "# Translate birthday wishes into Portuguese.\n",
        "# Portuguese model fails to work, due to an Error being thrown.\n",
        "#print(model.translate(sentences, target_lang='pt'))\n",
        "# Translate birthday wishes into French.\n",
        "print(model.translate(sentences, target_lang='fr'))\n",
        "# Translate birthday wishes into Romanian.\n",
        "print(model.translate(sentences, target_lang='ro'))\n",
        "# Translate birthday wishes into Portuguese.\n",
        "# Portuguese model fails to work, due to an Error being thrown.\n",
        "#print(model.translate(sentences, target_lang='pt'))\n",
        "# Translate birthday wishes into Mandarin/Chinese.\n",
        "print(model.translate(sentences, target_lang='zh'))\n",
        "# Translate birthday wishes into Hungarian.\n",
        "print(model.translate(sentences, target_lang='hu'))\n",
        "# Translate birthday wishes into Malayalam.\n",
        "print(model.translate(sentences, target_lang='ml'))\n",
        "# Translate birthday wishes into Hindi.\n",
        "print(model.translate(sentences, target_lang='hi'))\n",
        "# Translate birthday wishes into Malay.\n",
        "# Malay model fails to work, due to an Error being thrown.\n",
        "#print(model.translate(sentences, target_lang='ms'))\n",
        "# Translate birthday wishes into Indonesian Malay.\n",
        "print(model.translate(sentences, target_lang='id'))\n",
        "# Translate birthday wishes into Turkish.\n",
        "# Turkish model fails to work, due to an Error being thrown.\n",
        "#print(model.translate(sentences, target_lang='tr'))\n",
        "# Translate birthday wishes into Vietnamese.\n",
        "print(model.translate(sentences, target_lang='vi'))\n",
        "# Translate birthday wishes into Tagalog/Filipino.\n",
        "print(model.translate(sentences, target_lang='tl'))\n",
        "# Translate birthday wishes into Dutch.\n",
        "print(model.translate(sentences, target_lang='nl'))\n",
        "# Translate birthday wishes into German.\n",
        "print(model.translate(sentences, target_lang='de'))\n",
        "# Translate birthday wishes into Swedish.\n",
        "print(model.translate(sentences, target_lang='sv'))\n",
        "# Japanese model fails to work, due to an Error being thrown.\n",
        "# Translate birthday wishes into Japanese.\n",
        "#print(model.translate(sentences, target_lang='ja'))\n",
        "# Translate birthday wishes into Korean.\n",
        "#print(model.translate(sentences, target_lang='ko'))\n",
        "# Translate birthday wishes into Hebrew.\n",
        "print(model.translate(sentences, target_lang='he'))\n",
        "# Translate birthday wishes into Arabic.\n",
        "print(model.translate(sentences, target_lang='ar'))\n",
        "# Translate birthday wishes into Persian/Farsi.\n",
        "#print(model.translate(sentences, target_lang='fa'))\n",
        "# Translate birthday wishes into Kiswahili/Swahili.\n",
        "print(model.translate(sentences, target_lang='sw'))"
      ]
    },
    {
      "cell_type": "markdown",
      "metadata": {
        "id": "g21RwRyjqsZ2"
      },
      "source": [
        "#   Use Another Model for Further Translations\n",
        "\n",
        "Translate birthday wishes using another machine translation model (*M2M_100* from *Meta/Facebook*), since the previous model *Opus-MT* does not work for the following languages.\n",
        "+ Portuguese\n",
        "+ Malay\n",
        "+ Turkish\n",
        "+ Japanese\n",
        "+ Korean\n",
        "+ Persian/Farsi\n",
        "+ Bulgarian\n",
        "+ Tamil\n",
        "+ Sinhala, or Singhalese\n",
        "\n",
        "\n",
        "##   Notes\n",
        "\n",
        "Import the *PyPI* Library for deep learning -based machine translation ***again***, so that whenever I reload this *Jupyter* Notebook, I can set up the environment via *PyPI* and only run this code block to get results (for this code block)."
      ]
    },
    {
      "cell_type": "code",
      "execution_count": null,
      "metadata": {
        "id": "qyBhGJG3q1g4",
        "colab": {
          "base_uri": "https://localhost:8080/"
        },
        "outputId": "b48aa50c-f257-4f48-c002-114b0e1446fd"
      },
      "outputs": [
        {
          "output_type": "stream",
          "name": "stderr",
          "text": [
            "/usr/local/lib/python3.8/dist-packages/transformers/generation/utils.py:1387: UserWarning: Neither `max_length` nor `max_new_tokens` has been set, `max_length` will default to 200 (`self.config.max_length`). Controlling `max_length` via the config is deprecated and `max_length` will be removed from the config in v5 of Transformers -- we recommend using `max_new_tokens` to control the maximum length of the generation.\n",
            "  warnings.warn(\n"
          ]
        },
        {
          "output_type": "stream",
          "name": "stdout",
          "text": [
            "['Feliz Ano Novo!', 'Que sua vida esteja cheia de alegria!']\n",
            "['Selamat Tahun Baru!', 'Semoga hidup anda dipenuhi dengan sukacita!']\n",
            "['Yeni yıl kutlu olsun!', 'Hayatınızın mutlulukla dolmasını dilerim!']\n",
            "['新年おめでとう!', 'あなたの人生が喜びに満ち溢れるように!']\n",
            "['행복한 새해!', '당신의 인생이 기쁨으로 가득 차 있기를 바랍니다!']\n",
            "['سال نو مبارک!', 'زندگی تان را با شادی پر کنید!']\n",
            "['Честита Нова година!', 'Нека животът ви бъде изпълнен с радост!']\n",
            "['புதிய வருடம் நல்வாழ்த்துக்கள்!', 'உங்கள் வாழ்க்கையை மகிழ்ச்சியோடு நிறைவேற்றுங்கள்!']\n",
            "['සුබ අලුත් අවුරුද්දක්!', 'ඔබේ ජීවිතය සතුටින් පිරී යයි!']\n"
          ]
        }
      ],
      "source": [
        "from easynmt import EasyNMT\n",
        "#model = EasyNMT('m2m_100_418M')   #or: EasyNMT('m2m_100_1.2B') \n",
        "model = EasyNMT('m2m_100_1.2B') \n",
        "\n",
        "#Translate birthday wishes as several sentences into different languages.\n",
        "sentences = ['Happy New Year!',\n",
        "             'May your life be filled with joy!']\n",
        "# Translate birthday wishes into Portuguese.\n",
        "print(model.translate(sentences, target_lang='pt'))\n",
        "# Translate birthday wishes into Malay.\n",
        "print(model.translate(sentences, target_lang='ms'))\n",
        "# Translate birthday wishes into Turkish.\n",
        "print(model.translate(sentences, target_lang='tr'))\n",
        "# Translate birthday wishes into Japanese.\n",
        "print(model.translate(sentences, target_lang='ja'))\n",
        "# Translate birthday wishes into Korean.\n",
        "print(model.translate(sentences, target_lang='ko'))\n",
        "# Translate birthday wishes into Persian/Farsi.\n",
        "print(model.translate(sentences, target_lang='fa'))\n",
        "# Translate birthday wishes into Bulgarian.\n",
        "print(model.translate(sentences, target_lang='bg'))\n",
        "# Translate birthday wishes into Tamil.\n",
        "print(model.translate(sentences, target_lang='ta'))\n",
        "# Translate birthday wishes into Sinhala, or Singhalese.\n",
        "print(model.translate(sentences, target_lang='si'))"
      ]
    },
    {
      "cell_type": "markdown",
      "metadata": {
        "id": "H1iWIG4i30xj"
      },
      "source": [
        "#   Addendum\n",
        "\n",
        "This *Jupyter* Notebook should stored in the following *GitHub* repository:\n",
        "\n",
        "    python-sandbox/others/applied-ml/natural-lang-processing/\n",
        "\n",
        "\n",
        "The path with the filename would be:\n",
        "\n",
        "    python-sandbox/others/applied-ml/natural-lang-processing/nlp_toys_easyNMT.ipynb\n",
        "\n",
        "\n",
        "To determine the \"code\" used for selecting the (natural) language of your choice, use the ISO 639-1 code for the language. See the following reference from *Wikipedia* for a list of the ISO 639-1 codes of many languages.\n",
        "\n",
        "Note that the default language for these machine translation models is English. I have used these models to translate from English to another language.\n",
        "\n",
        "\n",
        "\t@misc{WikipediaContributors2022a,\n",
        "\t\tAddress = {San Francisco, {CA}},\n",
        "\t\tAuthor = {{Wikipedia contributors}},\n",
        "\t\tHowpublished = {Available online from {\\it Wikipedia, The Free Encyclopedia: Unique identifiers} at: \\url{https://en.wikipedia.org/wiki/List_of_ISO_639-1_codes}; July 2, 2022 was the last accessed date},\n",
        "\t\tMonth = {June 21},\n",
        "\t\tPublisher = {Wikimedia Foundation},\n",
        "\t\tTitle = {List of {ISO 639-1} codes},\n",
        "\t\tUrl = {https://en.wikipedia.org/wiki/List_of_ISO_639-1_codes},\n",
        "\t\tYear = {2022}}\n",
        "\n",
        "\n",
        "\n",
        "\n",
        "#   Reference\n",
        "\n",
        "Code snippets are taken from the following reference, which information is provided in *BibTeX* format.\n",
        "\n",
        "    @misc{Reimers2022,\n",
        "\t\tAddress = {Beaverton, {OR}},\n",
        "\t\tAuthor = {Nils Reimers},\n",
        "\t\tHowpublished = {Available online from {\\it {PyPI} -- The {Python} Package Index: {EasyNMT} 2.0.2} at: \\url{https://pypi.org/project/EasyNMT/}; July 2, 2022 was the last accessed date},\n",
        "\t\tKeywords = {Python packages},\n",
        "\t\tMonth = {May 27},\n",
        "\t\tPublisher = {Python Software Foundation},\n",
        "\t\tTitle = {{EasyNMT} -- Easy to use, state-of-the-art Neural Machine Translation},\n",
        "\t\tUrl = {https://pypi.org/project/EasyNMT/},\n",
        "\t\tYear = {2022}}\n"
      ]
    }
  ],
  "metadata": {
    "colab": {
      "provenance": [],
      "authorship_tag": "ABX9TyP+SB0KoMgWzY6B8XnX5Xpa",
      "include_colab_link": true
    },
    "kernelspec": {
      "display_name": "Python 3",
      "name": "python3"
    },
    "language_info": {
      "name": "python"
    }
  },
  "nbformat": 4,
  "nbformat_minor": 0
}