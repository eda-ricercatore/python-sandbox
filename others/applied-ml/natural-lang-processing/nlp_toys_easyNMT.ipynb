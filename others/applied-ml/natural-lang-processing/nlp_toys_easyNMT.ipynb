{
  "nbformat": 4,
  "nbformat_minor": 0,
  "metadata": {
    "colab": {
      "name": "nlp_toys_easyNMT.ipynb",
      "provenance": [],
      "collapsed_sections": [],
      "authorship_tag": "ABX9TyNcVaYueKZOxcMvChT4u6q1",
      "include_colab_link": true
    },
    "kernelspec": {
      "name": "python3",
      "display_name": "Python 3"
    },
    "language_info": {
      "name": "python"
    }
  },
  "cells": [
    {
      "cell_type": "markdown",
      "metadata": {
        "id": "view-in-github",
        "colab_type": "text"
      },
      "source": [
        "<a href=\"https://colab.research.google.com/github/eda-ricercatore/python-sandbox/blob/main/others/applied-ml/natural-lang-processing/nlp_toys_easyNMT.ipynb\" target=\"_parent\"><img src=\"https://colab.research.google.com/assets/colab-badge.svg\" alt=\"Open In Colab\"/></a>"
      ]
    },
    {
      "cell_type": "markdown",
      "source": [
        "#   Precondition: Set Up Environment to Import PyPI Library\n",
        "\n",
        "Use the command line in *Google Colab* to set up the PyPI library for deep learning -based machine translation, so that it can be imported subsequently. "
      ],
      "metadata": {
        "id": "DR7ZCjuPlKL3"
      }
    },
    {
      "cell_type": "code",
      "execution_count": null,
      "metadata": {
        "colab": {
          "base_uri": "https://localhost:8080/"
        },
        "id": "PFzXlwO1h3Vy",
        "outputId": "35fb06d4-e061-4195-eeee-587723fe91ea"
      },
      "outputs": [
        {
          "output_type": "stream",
          "name": "stdout",
          "text": [
            "Looking in indexes: https://pypi.org/simple, https://us-python.pkg.dev/colab-wheels/public/simple/\n",
            "Requirement already satisfied: easynmt in /usr/local/lib/python3.7/dist-packages (2.0.2)\n",
            "Requirement already satisfied: torch>=1.6.0 in /usr/local/lib/python3.7/dist-packages (from easynmt) (1.11.0+cu113)\n",
            "Requirement already satisfied: sentencepiece in /usr/local/lib/python3.7/dist-packages (from easynmt) (0.1.96)\n",
            "Requirement already satisfied: numpy in /usr/local/lib/python3.7/dist-packages (from easynmt) (1.21.6)\n",
            "Requirement already satisfied: tqdm in /usr/local/lib/python3.7/dist-packages (from easynmt) (4.64.0)\n",
            "Requirement already satisfied: transformers<5,>=4.4 in /usr/local/lib/python3.7/dist-packages (from easynmt) (4.20.1)\n",
            "Requirement already satisfied: nltk in /usr/local/lib/python3.7/dist-packages (from easynmt) (3.7)\n",
            "Requirement already satisfied: protobuf in /usr/local/lib/python3.7/dist-packages (from easynmt) (3.17.3)\n",
            "Requirement already satisfied: fasttext in /usr/local/lib/python3.7/dist-packages (from easynmt) (0.9.2)\n",
            "Requirement already satisfied: typing-extensions in /usr/local/lib/python3.7/dist-packages (from torch>=1.6.0->easynmt) (4.1.1)\n",
            "Requirement already satisfied: requests in /usr/local/lib/python3.7/dist-packages (from transformers<5,>=4.4->easynmt) (2.23.0)\n",
            "Requirement already satisfied: huggingface-hub<1.0,>=0.1.0 in /usr/local/lib/python3.7/dist-packages (from transformers<5,>=4.4->easynmt) (0.8.1)\n",
            "Requirement already satisfied: packaging>=20.0 in /usr/local/lib/python3.7/dist-packages (from transformers<5,>=4.4->easynmt) (21.3)\n",
            "Requirement already satisfied: importlib-metadata in /usr/local/lib/python3.7/dist-packages (from transformers<5,>=4.4->easynmt) (4.11.4)\n",
            "Requirement already satisfied: filelock in /usr/local/lib/python3.7/dist-packages (from transformers<5,>=4.4->easynmt) (3.7.1)\n",
            "Requirement already satisfied: tokenizers!=0.11.3,<0.13,>=0.11.1 in /usr/local/lib/python3.7/dist-packages (from transformers<5,>=4.4->easynmt) (0.12.1)\n",
            "Requirement already satisfied: regex!=2019.12.17 in /usr/local/lib/python3.7/dist-packages (from transformers<5,>=4.4->easynmt) (2022.6.2)\n",
            "Requirement already satisfied: pyyaml>=5.1 in /usr/local/lib/python3.7/dist-packages (from transformers<5,>=4.4->easynmt) (6.0)\n",
            "Requirement already satisfied: pyparsing!=3.0.5,>=2.0.2 in /usr/local/lib/python3.7/dist-packages (from packaging>=20.0->transformers<5,>=4.4->easynmt) (3.0.9)\n",
            "Requirement already satisfied: pybind11>=2.2 in /usr/local/lib/python3.7/dist-packages (from fasttext->easynmt) (2.9.2)\n",
            "Requirement already satisfied: setuptools>=0.7.0 in /usr/local/lib/python3.7/dist-packages (from fasttext->easynmt) (57.4.0)\n",
            "Requirement already satisfied: zipp>=0.5 in /usr/local/lib/python3.7/dist-packages (from importlib-metadata->transformers<5,>=4.4->easynmt) (3.8.0)\n",
            "Requirement already satisfied: joblib in /usr/local/lib/python3.7/dist-packages (from nltk->easynmt) (1.1.0)\n",
            "Requirement already satisfied: click in /usr/local/lib/python3.7/dist-packages (from nltk->easynmt) (7.1.2)\n",
            "Requirement already satisfied: six>=1.9 in /usr/local/lib/python3.7/dist-packages (from protobuf->easynmt) (1.15.0)\n",
            "Requirement already satisfied: idna<3,>=2.5 in /usr/local/lib/python3.7/dist-packages (from requests->transformers<5,>=4.4->easynmt) (2.10)\n",
            "Requirement already satisfied: certifi>=2017.4.17 in /usr/local/lib/python3.7/dist-packages (from requests->transformers<5,>=4.4->easynmt) (2022.6.15)\n",
            "Requirement already satisfied: chardet<4,>=3.0.2 in /usr/local/lib/python3.7/dist-packages (from requests->transformers<5,>=4.4->easynmt) (3.0.4)\n",
            "Requirement already satisfied: urllib3!=1.25.0,!=1.25.1,<1.26,>=1.21.1 in /usr/local/lib/python3.7/dist-packages (from requests->transformers<5,>=4.4->easynmt) (1.24.3)\n",
            "Looking in indexes: https://pypi.org/simple, https://us-python.pkg.dev/colab-wheels/public/simple/\n",
            "Requirement already satisfied: sacremoses in /usr/local/lib/python3.7/dist-packages (0.0.53)\n",
            "Requirement already satisfied: tqdm in /usr/local/lib/python3.7/dist-packages (from sacremoses) (4.64.0)\n",
            "Requirement already satisfied: six in /usr/local/lib/python3.7/dist-packages (from sacremoses) (1.15.0)\n",
            "Requirement already satisfied: regex in /usr/local/lib/python3.7/dist-packages (from sacremoses) (2022.6.2)\n",
            "Requirement already satisfied: click in /usr/local/lib/python3.7/dist-packages (from sacremoses) (7.1.2)\n",
            "Requirement already satisfied: joblib in /usr/local/lib/python3.7/dist-packages (from sacremoses) (1.1.0)\n"
          ]
        }
      ],
      "source": [
        "!pip install -U easynmt\n",
        "!pip install sacremoses"
      ]
    },
    {
      "cell_type": "markdown",
      "source": [
        "#   Import PyPI Library for Machine Translation, and Perform Machine Translation.\n",
        "\n",
        "Import the PyPI Library for deep learning -based machine translation, and perform machine translation.\n",
        "\n",
        "This is the sample code to translate from English to German, from the PyPI Web page for EasyNMT."
      ],
      "metadata": {
        "id": "zfZtQOlvltM0"
      }
    },
    {
      "cell_type": "code",
      "source": [
        "from easynmt import EasyNMT\n",
        "model = EasyNMT('opus-mt')\n",
        "\n",
        "#Translate a single sentence to German\n",
        "print(model.translate('This is a sentence we want to translate to German', target_lang='de'))\n",
        "\n",
        "#Translate several sentences to German\n",
        "sentences = ['You can define a list with sentences.',\n",
        "             'All sentences are translated to your target language.',\n",
        "             'Note, you could also mix the languages of the sentences.']\n",
        "print(model.translate(sentences, target_lang='de'))"
      ],
      "metadata": {
        "colab": {
          "base_uri": "https://localhost:8080/"
        },
        "id": "FSZXmto4lrwb",
        "outputId": "de264274-af86-4e59-f9da-03f911d1e1f9"
      },
      "execution_count": null,
      "outputs": [
        {
          "output_type": "stream",
          "name": "stdout",
          "text": [
            "Dies ist ein Satz, den wir ins Deutsche übersetzen wollen\n",
            "['Sie können eine Liste mit Sätzen definieren.', 'Alle Sätze werden in Ihre Zielsprache übersetzt.', 'Beachten Sie, Sie können auch die Sprachen der Sätze mischen.']\n"
          ]
        }
      ]
    },
    {
      "cell_type": "markdown",
      "source": [
        "#   Translate Birthday Wishes from English to Different Languages\n",
        "\n",
        "Translate from English to the following languages:\n",
        "+ Italian\n",
        "+ Spanish\n",
        "+ French\n",
        "+ Romanian\n",
        "+ Mandarin/Chinese\n",
        "+ Hungarian\n",
        "+ Malayalam\n",
        "+ Hindi\n",
        "+ Indonesian Malay\n",
        "+ Vietnamese\n",
        "+ Tagalog\n",
        "+ Dutch\n",
        "+ German\n",
        "+ Swedish\n",
        "+ Hebrew\n",
        "+ Arabic\n",
        "+ Kiswahili/Swahili"
      ],
      "metadata": {
        "id": "7tbTX1CGnMx7"
      }
    },
    {
      "cell_type": "code",
      "source": [
        "# Translate birthday wishes as several sentences into different languages.\n",
        "sentences = ['Happy Birthday!',\n",
        "             'Have a great day!',\n",
        "             'May your life be filled with joy!']\n",
        "# Translate birthday wishes into Italian.\n",
        "print(model.translate(sentences, target_lang='it'))\n",
        "# Translate birthday wishes into Spanish.\n",
        "print(model.translate(sentences, target_lang='es'))\n",
        "# Translate birthday wishes into French.\n",
        "print(model.translate(sentences, target_lang='fr'))\n",
        "# Translate birthday wishes into Romanian.\n",
        "print(model.translate(sentences, target_lang='ro'))\n",
        "# Translate birthday wishes into Portuguese.\n",
        "# Portuguese model fails to work, due to an Error being thrown.\n",
        "#print(model.translate(sentences, target_lang='pt'))\n",
        "# Translate birthday wishes into Mandarin/Chinese.\n",
        "print(model.translate(sentences, target_lang='zh'))\n",
        "# Translate birthday wishes into Hungarian.\n",
        "print(model.translate(sentences, target_lang='hu'))\n",
        "# Translate birthday wishes into Malayalam.\n",
        "print(model.translate(sentences, target_lang='ml'))\n",
        "# Translate birthday wishes into Hindi.\n",
        "print(model.translate(sentences, target_lang='hi'))\n",
        "# Translate birthday wishes into Malay.\n",
        "# Malay model fails to work, due to an Error being thrown.\n",
        "#print(model.translate(sentences, target_lang='ms'))\n",
        "# Translate birthday wishes into Indonesian Malay.\n",
        "print(model.translate(sentences, target_lang='id'))\n",
        "# Translate birthday wishes into Turkish.\n",
        "# Turkish model fails to work, due to an Error being thrown.\n",
        "#print(model.translate(sentences, target_lang='tr'))\n",
        "# Translate birthday wishes into Vietnamese.\n",
        "print(model.translate(sentences, target_lang='vi'))\n",
        "# Translate birthday wishes into Tagalog/Filipino.\n",
        "print(model.translate(sentences, target_lang='tl'))\n",
        "# Translate birthday wishes into Dutch.\n",
        "print(model.translate(sentences, target_lang='nl'))\n",
        "# Translate birthday wishes into German.\n",
        "print(model.translate(sentences, target_lang='de'))\n",
        "# Translate birthday wishes into Swedish.\n",
        "print(model.translate(sentences, target_lang='sv'))\n",
        "# Japanese model fails to work, due to an Error being thrown.\n",
        "# Translate birthday wishes into Japanese.\n",
        "#print(model.translate(sentences, target_lang='ja'))\n",
        "# Translate birthday wishes into Korean.\n",
        "#print(model.translate(sentences, target_lang='ko'))\n",
        "# Translate birthday wishes into Hebrew.\n",
        "print(model.translate(sentences, target_lang='he'))\n",
        "# Translate birthday wishes into Arabic.\n",
        "print(model.translate(sentences, target_lang='ar'))\n",
        "# Translate birthday wishes into Persian/Farsi.\n",
        "#print(model.translate(sentences, target_lang='fa'))\n",
        "# Translate birthday wishes into Kiswahili/Swahili.\n",
        "print(model.translate(sentences, target_lang='sw'))"
      ],
      "metadata": {
        "colab": {
          "base_uri": "https://localhost:8080/"
        },
        "id": "mBWFMnsYnJo4",
        "outputId": "c1c2a010-972f-4dc0-e8fb-647dc10d43b4"
      },
      "execution_count": null,
      "outputs": [
        {
          "output_type": "stream",
          "name": "stdout",
          "text": [
            "['Buon compleanno!', 'Buona giornata!', 'Che la tua vita sia piena di gioia!']\n",
            "['¡Feliz cumpleaños!', '¡Que tengas un buen día!', '¡Que tu vida esté llena de alegría!']\n",
            "['Joyeux anniversaire!', 'Bonne journée!', 'Que ta vie soit remplie de joie!']\n",
            "['La mulţi ani!', 'O zi bună!', 'Fie ca viaţa ta să fie plină de bucurie!']\n",
            "['生日快乐!', '祝你今天过得愉快!', '愿你的生命充满喜悦!']\n",
            "['Boldog szülinapot!', 'Legyen szép napod!', 'Az életed legyen tele örömmel!']\n",
            "['ഹാപ്പി ബർത്ത്ഡേ!', 'ശുഭദിനം!', 'നിങ്ങളുടെ ജീവിതം സന്തോഷത്താൽ നിറയട്ടെ!']\n",
            "['जन्मदिन मुबारक हो!', 'एक बड़ा दिन है!', 'ऐसा हो कि आपका जीवन आनन्द से भर जाए!']\n",
            "['Selamat ulang tahun!', 'Semoga harimu menyenangkan!', 'Semoga hidupmu penuh dengan sukacita!']\n",
            "['Chúc mừng!', 'Chúc một ngày tốt lành!', 'Mong sao đời sống bạn tràn đầy vui mừng!']\n",
            "['Maligayang Kapanganakan!', 'Magkaroon ng isang dakilang araw!', 'Mapuspos nawa ng kagalakan ang iyong buhay!']\n",
            "['Gefeliciteerd.', 'Fijne dag nog.', 'Moge je leven vervuld zijn van vreugde!']\n",
            "['Alles Gute zum Geburtstag!', 'Schönen Tag noch!', 'Möge dein Leben mit Freude erfüllt sein!']\n",
            "['Grattis på födelsedagen!', 'Ha en bra dag!', 'Må ditt liv bli fyllt av glädje!']\n",
            "['יום הולדת שמח!', 'שיהיה לך יום נהדר!', 'מי ייתן וחייך יהיו מלאי שמחה!']\n",
            "['عيد ميلاد سعيد سعيد!', 'تمتعوا بيوم عظيم!', 'لِتَمْلَأُ حَيَاتُكَ مِنْ ٱلْمَزْمُورِ!']\n",
            "['Siku ya Kuzaliwa Yenye Furaha!', 'Uwe na siku kuu!', 'Maisha yako na yajawe na shangwe!']\n"
          ]
        }
      ]
    },
    {
      "cell_type": "markdown",
      "source": [
        "#   Use Another Model for Further Translations\n",
        "\n",
        "Translate birthday wishes using another machine translation model (*M2M_100* from *Meta/Facebook*), since the previous model *Opus-MT* does not work for the following languages.\n",
        "+ Portuguese\n",
        "+ Malay\n",
        "+ Turkish\n",
        "+ Japanese\n",
        "+ Korean\n",
        "+ Persian/Farsi\n",
        "+ Bulgarian\n",
        "+ Tamil  "
      ],
      "metadata": {
        "id": "g21RwRyjqsZ2"
      }
    },
    {
      "cell_type": "code",
      "source": [
        "from easynmt import EasyNMT\n",
        "#model = EasyNMT('m2m_100_418M')   #or: EasyNMT('m2m_100_1.2B') \n",
        "model = EasyNMT('m2m_100_1.2B') \n",
        "\n",
        "#Translate birthday wishes as several sentences into different languages.\n",
        "sentences = ['Happy Birthday!',\n",
        "             'Have a great day!',\n",
        "             'May your life be filled with joy!']\n",
        "# Translate birthday wishes into Portuguese.\n",
        "print(model.translate(sentences, target_lang='pt'))\n",
        "# Translate birthday wishes into Malay.\n",
        "print(model.translate(sentences, target_lang='ms'))\n",
        "# Translate birthday wishes into Turkish.\n",
        "print(model.translate(sentences, target_lang='tr'))\n",
        "# Translate birthday wishes into Japanese.\n",
        "print(model.translate(sentences, target_lang='ja'))\n",
        "# Translate birthday wishes into Korean.\n",
        "print(model.translate(sentences, target_lang='ko'))\n",
        "# Translate birthday wishes into Persian/Farsi.\n",
        "print(model.translate(sentences, target_lang='fa'))\n",
        "# Translate birthday wishes into Bulgarian.\n",
        "print(model.translate(sentences, target_lang='bg'))\n",
        "# Translate birthday wishes into Tamil.\n",
        "print(model.translate(sentences, target_lang='ta'))"
      ],
      "metadata": {
        "id": "qyBhGJG3q1g4",
        "colab": {
          "base_uri": "https://localhost:8080/"
        },
        "outputId": "9b3ff557-182e-4d87-9707-6d32dff8d174"
      },
      "execution_count": null,
      "outputs": [
        {
          "output_type": "stream",
          "name": "stdout",
          "text": [
            "['Feliz aniversário!', 'Tenha um grande dia!', 'Que sua vida esteja cheia de alegria!']\n",
            "['Selamat Ulang Tahun!', 'Punya hari yang hebat!', 'Semoga hidup anda dipenuhi dengan sukacita!']\n",
            "['Doğum günün kutlu olsun!', 'Güzel bir gün olsun!', 'Hayatınızın mutlulukla dolmasını dilerim!']\n",
            "['お誕生日おめでとう!', '素晴らしい一日を!', 'あなたの人生が喜びに満ち溢れるように!']\n",
            "['생일 축하합니다!', '좋은 하루 되세요!', '당신의 인생이 기쁨으로 가득 차 있기를 바랍니다!']\n",
            "['تولد مبارک!', 'روز خوبی داشته باشید!', 'زندگی تان را با شادی پر کنید!']\n",
            "['Честит рожден ден!', 'Имайте страхотен ден!', 'Нека животът ви бъде изпълнен с радост!']\n",
            "['பிறந்தநாள் வாழ்த்துக்கள்!', 'அழகான நாள் வாழ்த்துக்கள்!', 'உங்கள் வாழ்க்கையை மகிழ்ச்சியோடு நிறைவேற்றுங்கள்!']\n"
          ]
        }
      ]
    },
    {
      "cell_type": "markdown",
      "source": [
        "#   Addendum\n",
        "\n",
        "This Jupyter Notebook should stored in the following *GitHub* repository:\n",
        "\n",
        "    python-sandbox/others/applied-ml/natural-lang-processing/\n",
        "\n",
        "\n",
        "The path with the filename would be:\n",
        "\n",
        "    python-sandbox/others/applied-ml/natural-lang-processing/nlp_toys_easyNMT.ipynb\n",
        "\n",
        "\n",
        "To determine the \"code\" used for selecting the (natural) language of your choice, use the ISO 639-1 code for the language. See the following reference from *Wikipedia* for a list of the ISO 639-1 codes of many languages.\n",
        "\n",
        "Note that the default language for these machine translation models is English. I have used these models to translate from English to another language.\n",
        "\n",
        "\n",
        "\t@misc{WikipediaContributors2022a,\n",
        "\t\tAddress = {San Francisco, {CA}},\n",
        "\t\tAuthor = {{Wikipedia contributors}},\n",
        "\t\tHowpublished = {Available online from {\\it Wikipedia, The Free Encyclopedia: Unique identifiers} at: \\url{https://en.wikipedia.org/wiki/List_of_ISO_639-1_codes}; July 2, 2022 was the last accessed date},\n",
        "\t\tMonth = {June 21},\n",
        "\t\tPublisher = {Wikimedia Foundation},\n",
        "\t\tTitle = {List of {ISO 639-1} codes},\n",
        "\t\tUrl = {https://en.wikipedia.org/wiki/List_of_ISO_639-1_codes},\n",
        "\t\tYear = {2022}}\n",
        "\n",
        "\n",
        "\n",
        "\n",
        "#   Reference\n",
        "\n",
        "Code snippets are taken from the following reference, which information is provided in BibTeX format.\n",
        "\n",
        "    @misc{Reimers2022,\n",
        "\t\tAddress = {Beaverton, {OR}},\n",
        "\t\tAuthor = {Nils Reimers},\n",
        "\t\tHowpublished = {Available online from {\\it {PyPI} -- The {Python} Package Index: {EasyNMT} 2.0.2} at: \\url{https://pypi.org/project/EasyNMT/}; July 2, 2022 was the last accessed date},\n",
        "\t\tKeywords = {Python packages},\n",
        "\t\tMonth = {May 27},\n",
        "\t\tPublisher = {Python Software Foundation},\n",
        "\t\tTitle = {{EasyNMT} -- Easy to use, state-of-the-art Neural Machine Translation},\n",
        "\t\tUrl = {https://pypi.org/project/EasyNMT/},\n",
        "\t\tYear = {2022}}\n"
      ],
      "metadata": {
        "id": "H1iWIG4i30xj"
      }
    }
  ]
}