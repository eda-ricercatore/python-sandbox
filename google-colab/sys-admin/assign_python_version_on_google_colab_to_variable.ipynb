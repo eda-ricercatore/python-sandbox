{
  "nbformat": 4,
  "nbformat_minor": 0,
  "metadata": {
    "colab": {
      "provenance": []
    },
    "kernelspec": {
      "name": "python3",
      "display_name": "Python 3"
    },
    "language_info": {
      "name": "python"
    }
  },
  "cells": [
    {
      "cell_type": "markdown",
      "source": [
        "# Assignment of Python Version on Google Colab to a Python Variable"
      ],
      "metadata": {
        "id": "fBSXdgLDexOR"
      }
    },
    {
      "cell_type": "markdown",
      "source": [
        "# Introduction\n",
        "\n",
        "Instead of merely running a(n) UNIX/Linux command to determine the version of the Python interpreter that is provided on Google Colab, I assign the standard output to a variable, trim its leading and trailing whitespace, tokenize/delimit the string using a space character as the delimiter, and assign the second token/term storing the Python version to a variable that can be printed to standard output.\n",
        "\n",
        "This enables the Python version stored as a variable to be checked, so that I can develop Python software or computer programs to be customized based on the available Python interpreter.\n",
        "\n",
        "This allows me to write code that uses deprecated Python functions, such as those for pseudo-random number generation and timing measurements (or measurements of execution time of Python programs), as well as new Python functions available only on the current (and recent) Python version(s)."
      ],
      "metadata": {
        "id": "LmqE6UCBcx6z"
      }
    },
    {
      "cell_type": "code",
      "execution_count": 1,
      "metadata": {
        "colab": {
          "base_uri": "https://localhost:8080/"
        },
        "id": "HcAzrzqmRfZV",
        "outputId": "7dd6ae11-3458-4d4a-a196-86965f0f6611"
      },
      "outputs": [
        {
          "output_type": "stream",
          "name": "stdout",
          "text": [
            "Python 3.8.10\n"
          ]
        }
      ],
      "source": [
        "# Check for Python version on Google Colab.\n",
        "!python3 --version"
      ]
    },
    {
      "cell_type": "code",
      "source": [
        "import subprocess\n",
        "import os\n",
        "python_version = subprocess.run([\"python3\", \"--version\"])\n",
        "print(\"The version of Python being used is:\",python_version,\"=\")\n",
        "\"\"\"\n",
        "    Run the UNIX/Linux command to determine the version of the\n",
        "        Python interpreter [Courtwright2022].\n",
        "\"\"\"\n",
        "python_version = os.popen(\"python3 --version\").read()\n",
        "print(\"The version of Python being used is:\",python_version,\"=\")\n",
        "# Remove leading and trailing whitespace [Pankaj2022].\n",
        "python_version = os.popen(\"python3 --version\").read().strip()\n",
        "print(\"The version of Python being used is:\",python_version,\"=\")\n",
        "\"\"\"\n",
        "    Delimit/tokenize the string using (white) space character\n",
        "        as the delimiter, and use the second token to determine\n",
        "        the Python version [adamk2021].\n",
        "\"\"\"\n",
        "python_version_tokenized = python_version.split(\" \")\n",
        "print(\"The version of Python being used is:\",python_version_tokenized[1],\"=\")"
      ],
      "metadata": {
        "colab": {
          "base_uri": "https://localhost:8080/"
        },
        "id": "1nr8duqzSBrP",
        "outputId": "c7a450bb-6c6b-4680-c125-dbf6c9d63baa"
      },
      "execution_count": 2,
      "outputs": [
        {
          "output_type": "stream",
          "name": "stdout",
          "text": [
            "The version of Python being used is: CompletedProcess(args=['python3', '--version'], returncode=0) =\n",
            "The version of Python being used is: Python 3.8.10\n",
            " =\n",
            "The version of Python being used is: Python 3.8.10 =\n",
            "The version of Python being used is: 3.8.10 =\n"
          ]
        }
      ]
    },
    {
      "cell_type": "markdown",
      "source": [
        "# References\n",
        "\n",
        "\n",
        "\t@misc{Pankaj2022,\n",
        "\t\tAddress = {New York, {NY}},\n",
        "\t\tAuthor = {Pankaj},\n",
        "\t\tHowpublished = {Available online from {\\it {DigitalOcean}: Community: Resources: Tutorials} at: \\url{https://www.digitalocean.com/community/tutorials/python-trim-string-rstrip-lstrip-strip}; January 21, 2023 was the last accessed date},\n",
        "\t\tMonth = {August 3},\n",
        "\t\tPublisher = {{DigitalOcean, LLC}},\n",
        "\t\tTitle = {Python Trim String - rstrip(), lstrip(), strip()},\n",
        "\t\tUrl = {https://www.digitalocean.com/community/tutorials/python-trim-string-rstrip-lstrip-strip},\n",
        "\t\tYear = {2022}}\n",
        "\n",
        "\n",
        "\n",
        "\t@misc{adamk2021,\n",
        "\t\tAddress = {New York, {NY}},\n",
        "\t\tAuthor = {adamk and Aran-Fey and {MendelG}},\n",
        "\t\tHowpublished = {Available online from {\\it Stack Exchange Inc.: Stack Overflow: Questions} at: \\url{https://stackoverflow.com/a/3475270} and \\url{https://stackoverflow.com/questions/3475251/split-a-string-by-a-delimiter-in-python/3475270#3475270}; January 21, 2023 was the last accessed date},\n",
        "\t\tMonth = {January 14},\n",
        "\t\tPublisher = {Stack Exchange Inc.},\n",
        "\t\tTitle = {Answer to ``Split a string by a delimiter in python''},\n",
        "\t\tUrl = {https://stackoverflow.com/a/3475270},\n",
        "\t\tYear = {2021}}\n",
        "\n",
        "\n",
        "\n",
        "\t@misc{Courtwright2022,\n",
        "\t\tAddress = {New York, {NY}},\n",
        "\t\tAuthor = {Eli Courtwright and Erik ``erikbstack'' Bernoth and Rob I and ndemou and fedorqui and Sean Vikoren and {the Tin Man} and mit and Trenton J. McKinney and Chris and {MC} Emperor and Mateen Ulhaq and John Smith},\n",
        "\t\tHowpublished = {Available online from {\\it Stack Exchange Inc.: Stack Overflow: Questions} at: \\url{https://stackoverflow.com/a/92395} and \\url{https://stackoverflow.com/questions/89228/how-do-i-execute-a-program-or-call-a-system-command/92395#92395}; January 21, 2023 was the last accessed date},\n",
        "\t\tMonth = {December 15},\n",
        "\t\tPublisher = {Stack Exchange Inc.},\n",
        "\t\tTitle = {Answer to ``How do I execute a program or call a system command?''},\n",
        "\t\tUrl = {https://stackoverflow.com/a/92395},\n",
        "\t\tYear = {2022}}"
      ],
      "metadata": {
        "id": "O6FCk5Lxcsop"
      }
    }
  ]
}