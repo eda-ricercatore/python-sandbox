{
  "nbformat": 4,
  "nbformat_minor": 0,
  "metadata": {
    "colab": {
      "provenance": []
    },
    "kernelspec": {
      "name": "python3",
      "display_name": "Python 3"
    },
    "language_info": {
      "name": "python"
    }
  },
  "cells": [
    {
      "cell_type": "code",
      "execution_count": null,
      "metadata": {
        "colab": {
          "base_uri": "https://localhost:8080/"
        },
        "id": "HcAzrzqmRfZV",
        "outputId": "5697d3cc-6127-4593-edb9-c919548402d4"
      },
      "outputs": [
        {
          "output_type": "stream",
          "name": "stdout",
          "text": [
            "Python 3.8.10\n"
          ]
        }
      ],
      "source": [
        "# Check for Python version on Google Colab.\n",
        "!python3 --version"
      ]
    },
    {
      "cell_type": "code",
      "source": [
        "import subprocess\n",
        "import os\n",
        "python_version = subprocess.run([\"python3\", \"--version\"])\n",
        "print(\"The version of Python being used is:\",python_version,\"=\")\n",
        "\"\"\"\n",
        "  https://stackoverflow.com/a/92395\n",
        "  https://stackoverflow.com/questions/89228/how-do-i-execute-a-program-or-call-a-system-command/92395#92395\n",
        "  Eli Courtwright and Erik ``erikbstack'' Bernoth and Rob I and ndemou and fedorqui and Sean Vikoren and {the Tin Man} and mit and Trenton J. McKinney and Chris and {MC} Emperor and Mateen Ulhaq and John Smith\n",
        "  Published on: Dec 15, 2022 \n",
        "  Answer to ``How do I execute a program or call a system command?''\n",
        "\"\"\"\n",
        "python_version = os.popen(\"python3 --version\").read()\n",
        "print(\"The version of Python being used is:\",python_version,\"=\")\n",
        "\"\"\"\n",
        "  https://www.digitalocean.com/community/tutorials/python-trim-string-rstrip-lstrip-strip\n",
        "  // Tutorial //\n",
        "  Python Trim String - rstrip(), lstrip(), strip()\n",
        "  Published on August 3, 2022\n",
        "  Author:Pankaj\n",
        "  DigitalOcean, LLC\n",
        "  New York, NY\n",
        "  Community: Resources: Tutorials\n",
        "\"\"\"\n",
        "python_version = os.popen(\"python3 --version\").read().strip()\n",
        "print(\"The version of Python being used is:\",python_version,\"=\")\n",
        "\"\"\"\n",
        "  https://stackoverflow.com/a/3475270\n",
        "  https://stackoverflow.com/questions/3475251/split-a-string-by-a-delimiter-in-python/3475270#3475270\n",
        "  Authors: adamk and Aran-Fey and MendelG\n",
        "  Jan 14, 2021\n",
        "  Answer to ``Split a string by a delimiter in python''\n",
        "\"\"\"\n",
        "python_version_tokenized = python_version.split(\" \")\n",
        "print(\"The version of Python being used is:\",python_version_tokenized[1],\"=\")"
      ],
      "metadata": {
        "colab": {
          "base_uri": "https://localhost:8080/"
        },
        "id": "1nr8duqzSBrP",
        "outputId": "4094a64b-2001-43d6-9f90-164068a4a018"
      },
      "execution_count": null,
      "outputs": [
        {
          "output_type": "stream",
          "name": "stdout",
          "text": [
            "The version of Python being used is: CompletedProcess(args=['python3', '--version'], returncode=0) =\n",
            "The version of Python being used is: Python 3.8.10\n",
            " =\n",
            "The version of Python being used is: Python 3.8.10 =\n",
            "The version of Python being used is: 3.8.10 =\n"
          ]
        }
      ]
    }
  ]
}